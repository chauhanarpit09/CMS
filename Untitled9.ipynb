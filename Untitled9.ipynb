{
  "nbformat": 4,
  "nbformat_minor": 0,
  "metadata": {
    "colab": {
      "name": "Untitled9.ipynb",
      "provenance": [],
      "collapsed_sections": [],
      "mount_file_id": "1VlXfv4zH1BRfnHZFMm_1Zp9xDpSAtFbM",
      "authorship_tag": "ABX9TyNp5na2XAz5dK+PEXSGklkl",
      "include_colab_link": true
    },
    "kernelspec": {
      "name": "python3",
      "display_name": "Python 3"
    }
  },
  "cells": [
    {
      "cell_type": "markdown",
      "metadata": {
        "id": "view-in-github",
        "colab_type": "text"
      },
      "source": [
        "<a href=\"https://colab.research.google.com/github/chauhanarpit09/CMS/blob/master/Untitled9.ipynb\" target=\"_parent\"><img src=\"https://colab.research.google.com/assets/colab-badge.svg\" alt=\"Open In Colab\"/></a>"
      ]
    },
    {
      "cell_type": "markdown",
      "metadata": {
        "id": "AaV47FcVUEt2",
        "colab_type": "text"
      },
      "source": [
        "# **Name entity Tagging***\n",
        "WE also do this by encoder decoder module through which we get more accurate results"
      ]
    },
    {
      "cell_type": "code",
      "metadata": {
        "id": "TMPE1nFAK-Sr",
        "colab_type": "code",
        "colab": {}
      },
      "source": [
        "import tensorflow as tf\n",
        "from tensorflow.keras.preprocessing.text import Tokenizer\n",
        "from tensorflow.keras.preprocessing.sequence import pad_sequences\n",
        "from keras.utils import to_categorical\n",
        "import tensorflow.keras.utils as ku \n",
        "\n",
        "from tensorflow.keras.models import Sequential\n",
        "from tensorflow.keras.layers import Embedding,LSTM,Dense,Dropout,Bidirectional\n",
        "from tensorflow.keras.regularizers import l2\n",
        "\n",
        "import numpy as np\n"
      ],
      "execution_count": 0,
      "outputs": []
    },
    {
      "cell_type": "code",
      "metadata": {
        "id": "kX7xq1z_VzlM",
        "colab_type": "code",
        "colab": {}
      },
      "source": [
        "def read_data(file_path):\n",
        "    tokens = []\n",
        "    tags = []\n",
        "    \n",
        "    tweet_tokens = []\n",
        "    tweet_tags = []\n",
        "    for line in open(file_path, encoding='utf-8'):\n",
        "        line = line.strip()\n",
        "        if not line:\n",
        "            if tweet_tokens:\n",
        "                tokens.append(tweet_tokens)\n",
        "                tags.append(tweet_tags)\n",
        "            tweet_tokens = []\n",
        "            tweet_tags = []\n",
        "        else:\n",
        "            token, tag = line.split()\n",
        "            # Replace all urls with <URL> token\n",
        "            # Replace all users with <USR> token\n",
        "            if token.startswith(\"@\"):\n",
        "                token=\"USR\"\n",
        "            elif token.startswith(\"http://\") or token.startswith(\"https://\"):\n",
        "                token=\"URL\"\n",
        "            tweet_tokens.append(token)\n",
        "            tweet_tags.append(tag)\n",
        "           \n",
        "            \n",
        "    return tokens, tags"
      ],
      "execution_count": 0,
      "outputs": []
    },
    {
      "cell_type": "code",
      "metadata": {
        "id": "jI1eg5NdV3h7",
        "colab_type": "code",
        "colab": {}
      },
      "source": [
        "train_token,train_tag = read_data('/content/drive/My Drive/Recognize-named-entities-on-Twitter-with-LSTMs-master/Recognize-named-entities-on-Twitter-with-LSTMs-master/Data/train.txt') \n",
        "test_token,test_tag =  read_data('/content/drive/My Drive/Recognize-named-entities-on-Twitter-with-LSTMs-master/Recognize-named-entities-on-Twitter-with-LSTMs-master/Data/test.txt')\n",
        "val_token ,val_tag =  read_data('/content/drive/My Drive/Recognize-named-entities-on-Twitter-with-LSTMs-master/Recognize-named-entities-on-Twitter-with-LSTMs-master/Data/validation.txt')"
      ],
      "execution_count": 0,
      "outputs": []
    },
    {
      "cell_type": "code",
      "metadata": {
        "id": "3BLHZMwOUWiT",
        "colab_type": "code",
        "colab": {
          "base_uri": "https://localhost:8080/",
          "height": 52
        },
        "outputId": "5677010f-6e08-4b5a-d78f-102161be73a7"
      },
      "source": [
        "#data\n",
        "print(train_token[1],end = '\\n')\n",
        "print(train_tag[1])"
      ],
      "execution_count": 178,
      "outputs": [
        {
          "output_type": "stream",
          "text": [
            "['Apple', 'MacBook', 'Pro', 'A1278', '13.3', '\"', 'Laptop', '-', 'MD101LL/A', '(', 'June', ',', '2012', ')', '-', 'Full', 'read', 'by', 'eBay', 'URL', 'URL']\n",
            "['B-product', 'I-product', 'I-product', 'I-product', 'I-product', 'I-product', 'I-product', 'I-product', 'I-product', 'O', 'O', 'O', 'O', 'O', 'O', 'O', 'O', 'O', 'B-company', 'O', 'O']\n"
          ],
          "name": "stdout"
        }
      ]
    },
    {
      "cell_type": "code",
      "metadata": {
        "id": "YRqIo3VL3Dcb",
        "colab_type": "code",
        "outputId": "c9a5d9bf-42db-4f08-b4ff-8a88ac3b4c82",
        "colab": {
          "base_uri": "https://localhost:8080/",
          "height": 35
        }
      },
      "source": [
        "#vocab of train_token\n",
        "l = []\n",
        "for i in train_token:\n",
        "  for j in i:\n",
        "    l.append(j)\n",
        "a = sorted(set(l))\n",
        "v = len(a)\n",
        "print(v)"
      ],
      "execution_count": 122,
      "outputs": [
        {
          "output_type": "stream",
          "text": [
            "18972\n"
          ],
          "name": "stdout"
        }
      ]
    },
    {
      "cell_type": "code",
      "metadata": {
        "id": "keosaw21JIY1",
        "colab_type": "code",
        "colab": {
          "base_uri": "https://localhost:8080/",
          "height": 35
        },
        "outputId": "a021cb94-744f-421c-c61a-a2ab21a352ac"
      },
      "source": [
        "#vocab of train_tag\n",
        "k =[]\n",
        "for i in train_tag:\n",
        "  for j in i:\n",
        "    k.append(j)\n",
        "\n",
        "a = sorted(set(k))\n",
        "vt = len(a)\n",
        "print(vt)"
      ],
      "execution_count": 123,
      "outputs": [
        {
          "output_type": "stream",
          "text": [
            "21\n"
          ],
          "name": "stdout"
        }
      ]
    },
    {
      "cell_type": "code",
      "metadata": {
        "id": "SxxUAGijwaf4",
        "colab_type": "code",
        "colab": {}
      },
      "source": [
        "#train_token\n",
        "token = Tokenizer(oov_token  ='<OOV>',num_words = v)\n",
        "token.fit_on_texts(l)\n",
        "seq = token.texts_to_sequences(train_token)\n",
        "t_token = pad_sequences(seq,padding = 'post',truncating = 'post',maxlen = 43) \n"
      ],
      "execution_count": 0,
      "outputs": []
    },
    {
      "cell_type": "code",
      "metadata": {
        "id": "r82AGexj2vfB",
        "colab_type": "code",
        "colab": {}
      },
      "source": [
        "#train_tag\n",
        "token_tag = Tokenizer(oov_token  ='<OOV>',num_words = vt,filters ='')\n",
        "token_tag.fit_on_texts(k)\n",
        "seq_t = token_tag.texts_to_sequences(train_tag)\n",
        "tag_token = pad_sequences(seq_t,padding = 'post',truncating = 'post',maxlen = 43) "
      ],
      "execution_count": 0,
      "outputs": []
    },
    {
      "cell_type": "code",
      "metadata": {
        "id": "ujkBKZqzJedo",
        "colab_type": "code",
        "colab": {}
      },
      "source": [
        "#val_token,val_tag\n",
        "seq_val = token.texts_to_sequences(val_token)\n",
        "val = pad_sequences(seq_val,padding = 'post',truncating = 'post',maxlen = 43) \n",
        "\n",
        "seq_valt = token_tag.texts_to_sequences(val_tag)\n",
        "valt = pad_sequences(seq_valt,padding = 'post',truncating = 'post',maxlen = 43) \n"
      ],
      "execution_count": 0,
      "outputs": []
    },
    {
      "cell_type": "code",
      "metadata": {
        "id": "uOJCqQ01LjxC",
        "colab_type": "code",
        "colab": {}
      },
      "source": [
        "#test_token,test_tag\n",
        "seq_test = token.texts_to_sequences(test_token)\n",
        "test_t = pad_sequences(seq_val,padding = 'post',truncating = 'post',maxlen = 43) \n",
        "\n",
        "seq_testt = token_tag.texts_to_sequences(test_tag)\n",
        "test_tt = pad_sequences(seq_testt,padding = 'post',truncating = 'post',maxlen = 43)"
      ],
      "execution_count": 0,
      "outputs": []
    },
    {
      "cell_type": "code",
      "metadata": {
        "id": "lI_-HUVMJeaf",
        "colab_type": "code",
        "colab": {
          "base_uri": "https://localhost:8080/",
          "height": 35
        },
        "outputId": "00cb5505-aebd-49a7-feb8-ca5767e1c401"
      },
      "source": [
        "t_token.shape,tag_token.shape,val.shape,valt.shape,test_t.shape,test_tt.shape"
      ],
      "execution_count": 128,
      "outputs": [
        {
          "output_type": "execute_result",
          "data": {
            "text/plain": [
              "((5795, 43), (5795, 43), (724, 43), (724, 43), (724, 43), (724, 43))"
            ]
          },
          "metadata": {
            "tags": []
          },
          "execution_count": 128
        }
      ]
    },
    {
      "cell_type": "code",
      "metadata": {
        "id": "n-CODZU_KRAA",
        "colab_type": "code",
        "colab": {}
      },
      "source": [
        "#onehot vector of val_tag\n",
        "valt = np.array([to_categorical(i, num_classes=vt) for i in valt])\n",
        "\n",
        "#onehot vector of train_tag\n",
        "label = np.array([to_categorical(i, num_classes=vt) for i in tag_token])\n",
        "\n",
        "#onehot vector of test_tag\n",
        "label_test = np.array([to_categorical(i, num_classes=vt) for i in test_tt])\n"
      ],
      "execution_count": 0,
      "outputs": []
    },
    {
      "cell_type": "code",
      "metadata": {
        "id": "8xxL-Z7XKQ9E",
        "colab_type": "code",
        "colab": {
          "base_uri": "https://localhost:8080/",
          "height": 70
        },
        "outputId": "8130d41c-92d6-4490-fd97-0a57a71b7aac"
      },
      "source": [
        "#convert shape (shape,1) of val_token\n",
        "val = np.reshape(val,(724,43,1))\n",
        "print(val.shape)\n",
        "\n",
        "#convert shape (shape,1) of train_token\n",
        "input_eval = np.reshape(t_token,(5795,43,1))\n",
        "print(input_eval.shape)\n",
        "\n",
        "#convert shape (shape,1) of test_token\n",
        "input_test = np.reshape(test_t,(724,43,1))\n",
        "print(input_test.shape)"
      ],
      "execution_count": 130,
      "outputs": [
        {
          "output_type": "stream",
          "text": [
            "(724, 43, 1)\n",
            "(5795, 43, 1)\n",
            "(724, 43, 1)\n"
          ],
          "name": "stdout"
        }
      ]
    },
    {
      "cell_type": "markdown",
      "metadata": {
        "id": "xFZ1_TGbN--w",
        "colab_type": "text"
      },
      "source": [
        "# **Model**"
      ]
    },
    {
      "cell_type": "code",
      "metadata": {
        "id": "tPOwULU-VMbY",
        "colab_type": "code",
        "outputId": "53f15b96-18b0-40b3-bb37-75649f32ea67",
        "colab": {
          "base_uri": "https://localhost:8080/",
          "height": 426
        }
      },
      "source": [
        "Metrics = [\n",
        "           tf.keras.metrics.BinaryAccuracy(name = 'acc'),\n",
        "           tf.keras.metrics.Precision(name = 'p'),\n",
        "           tf.keras.metrics.Recall(name = 'r')\n",
        "]\n",
        "model = Sequential()\n",
        "model.add(Embedding(18992, 100, input_length=43))\n",
        "model.add(Bidirectional(LSTM(150, return_sequences = True)))\n",
        "model.add(Dropout(0.2))\n",
        "model.add(Bidirectional(LSTM(150, return_sequences = True)))\n",
        "model.add(Dropout(0.2))\n",
        "model.add(Dense(21/2, activation='relu', kernel_regularizer=l2(0.01)))\n",
        "model.add(Dense(21, activation='softmax'))\n",
        "model.compile(loss='categorical_crossentropy', optimizer='adam', metrics=Metrics)\n",
        "print(model.summary())"
      ],
      "execution_count": 131,
      "outputs": [
        {
          "output_type": "stream",
          "text": [
            "Model: \"sequential_7\"\n",
            "_________________________________________________________________\n",
            "Layer (type)                 Output Shape              Param #   \n",
            "=================================================================\n",
            "embedding_6 (Embedding)      (None, 43, 100)           1899200   \n",
            "_________________________________________________________________\n",
            "bidirectional_10 (Bidirectio (None, 43, 300)           301200    \n",
            "_________________________________________________________________\n",
            "dropout_10 (Dropout)         (None, 43, 300)           0         \n",
            "_________________________________________________________________\n",
            "bidirectional_11 (Bidirectio (None, 43, 300)           541200    \n",
            "_________________________________________________________________\n",
            "dropout_11 (Dropout)         (None, 43, 300)           0         \n",
            "_________________________________________________________________\n",
            "dense_8 (Dense)              (None, 43, 10)            3010      \n",
            "_________________________________________________________________\n",
            "dense_9 (Dense)              (None, 43, 21)            231       \n",
            "=================================================================\n",
            "Total params: 2,744,841\n",
            "Trainable params: 2,744,841\n",
            "Non-trainable params: 0\n",
            "_________________________________________________________________\n",
            "None\n"
          ],
          "name": "stdout"
        }
      ]
    },
    {
      "cell_type": "code",
      "metadata": {
        "id": "GGLgu2abgyLj",
        "colab_type": "code",
        "outputId": "c7e5c60b-4168-4eb2-a8bc-38d1337ffd33",
        "colab": {
          "base_uri": "https://localhost:8080/",
          "height": 372
        }
      },
      "source": [
        "history = model.fit(input_eval,label,epochs = 10,validation_data = (val,valt),batch_size = 80)"
      ],
      "execution_count": 163,
      "outputs": [
        {
          "output_type": "stream",
          "text": [
            "Epoch 1/10\n",
            "73/73 [==============================] - 48s 655ms/step - loss: 0.1360 - acc: 0.9979 - p: 0.9911 - r: 0.9652 - val_loss: 0.1641 - val_acc: 0.9976 - val_p: 0.9818 - val_r: 0.9682\n",
            "Epoch 2/10\n",
            "73/73 [==============================] - 52s 706ms/step - loss: 0.1272 - acc: 0.9981 - p: 0.9931 - r: 0.9666 - val_loss: 0.1682 - val_acc: 0.9976 - val_p: 0.9817 - val_r: 0.9686\n",
            "Epoch 3/10\n",
            "73/73 [==============================] - 49s 671ms/step - loss: 0.1226 - acc: 0.9981 - p: 0.9939 - r: 0.9670 - val_loss: 0.1703 - val_acc: 0.9976 - val_p: 0.9817 - val_r: 0.9686\n",
            "Epoch 4/10\n",
            "73/73 [==============================] - 48s 661ms/step - loss: 0.1179 - acc: 0.9982 - p: 0.9950 - r: 0.9673 - val_loss: 0.1670 - val_acc: 0.9976 - val_p: 0.9826 - val_r: 0.9675\n",
            "Epoch 5/10\n",
            "73/73 [==============================] - 48s 653ms/step - loss: 0.1136 - acc: 0.9983 - p: 0.9957 - r: 0.9676 - val_loss: 0.1684 - val_acc: 0.9977 - val_p: 0.9825 - val_r: 0.9681\n",
            "Epoch 6/10\n",
            "73/73 [==============================] - 48s 651ms/step - loss: 0.1099 - acc: 0.9983 - p: 0.9962 - r: 0.9677 - val_loss: 0.1669 - val_acc: 0.9976 - val_p: 0.9832 - val_r: 0.9670\n",
            "Epoch 7/10\n",
            "73/73 [==============================] - 47s 647ms/step - loss: 0.1074 - acc: 0.9983 - p: 0.9967 - r: 0.9678 - val_loss: 0.1632 - val_acc: 0.9976 - val_p: 0.9845 - val_r: 0.9639\n",
            "Epoch 8/10\n",
            "73/73 [==============================] - 48s 652ms/step - loss: 0.1044 - acc: 0.9983 - p: 0.9971 - r: 0.9679 - val_loss: 0.1721 - val_acc: 0.9976 - val_p: 0.9829 - val_r: 0.9671\n",
            "Epoch 9/10\n",
            "73/73 [==============================] - 47s 648ms/step - loss: 0.1020 - acc: 0.9984 - p: 0.9975 - r: 0.9680 - val_loss: 0.1656 - val_acc: 0.9976 - val_p: 0.9848 - val_r: 0.9640\n",
            "Epoch 10/10\n",
            "73/73 [==============================] - 47s 645ms/step - loss: 0.1000 - acc: 0.9984 - p: 0.9978 - r: 0.9680 - val_loss: 0.1736 - val_acc: 0.9976 - val_p: 0.9836 - val_r: 0.9667\n"
          ],
          "name": "stdout"
        }
      ]
    },
    {
      "cell_type": "markdown",
      "metadata": {
        "id": "lvQLzxM1Nqai",
        "colab_type": "text"
      },
      "source": [
        "## **Evaluation**\n"
      ]
    },
    {
      "cell_type": "code",
      "metadata": {
        "id": "-6pIt6kciTjE",
        "colab_type": "code",
        "outputId": "b447c0b9-6bfc-47cf-991d-1b43389deaa8",
        "colab": {
          "base_uri": "https://localhost:8080/",
          "height": 35
        }
      },
      "source": [
        "#f1 score on last epoch of train \n",
        "f1 =  2*(history.history['r'][9]*history.history['p'][9])/(history.history['p'][9]+history.history['r'][9])\n",
        "print(f1)"
      ],
      "execution_count": 164,
      "outputs": [
        {
          "output_type": "stream",
          "text": [
            "0.9826897610162738\n"
          ],
          "name": "stdout"
        }
      ]
    },
    {
      "cell_type": "code",
      "metadata": {
        "id": "wOhyE7FKHMgl",
        "colab_type": "code",
        "colab": {
          "base_uri": "https://localhost:8080/",
          "height": 35
        },
        "outputId": "09ae8239-67c7-44c5-de9c-32bc5a7dc56c"
      },
      "source": [
        "y = model.evaluate(input_test,label_test)"
      ],
      "execution_count": 165,
      "outputs": [
        {
          "output_type": "stream",
          "text": [
            "23/23 [==============================] - 2s 74ms/step - loss: 1.8614 - acc: 0.9790 - p: 0.7845 - r: 0.7710\n"
          ],
          "name": "stdout"
        }
      ]
    },
    {
      "cell_type": "code",
      "metadata": {
        "id": "MzGn2wGzQCZM",
        "colab_type": "code",
        "colab": {
          "base_uri": "https://localhost:8080/",
          "height": 35
        },
        "outputId": "ae6e57ec-1067-4857-e8e8-f7d5ec167949"
      },
      "source": [
        "#f1 score on test\n",
        "f1t = 2*(y[2]*y[3])/(y[2]+y[3])\n",
        "print(f1t)"
      ],
      "execution_count": 166,
      "outputs": [
        {
          "output_type": "stream",
          "text": [
            "0.7777345541314674\n"
          ],
          "name": "stdout"
        }
      ]
    },
    {
      "cell_type": "code",
      "metadata": {
        "id": "ltOne-OT3jV2",
        "colab_type": "code",
        "outputId": "3c6ff36c-ef68-401b-e19f-a1dfbc34ca6f",
        "colab": {
          "base_uri": "https://localhost:8080/",
          "height": 545
        }
      },
      "source": [
        "import matplotlib.pyplot as plt\n",
        "acc = history.history['acc']\n",
        "loss = history.history['loss']\n",
        "\n",
        "epochs = range(len(acc))\n",
        "\n",
        "plt.plot(epochs, acc, 'b', label='Training accuracy')\n",
        "plt.title('Training accuracy')\n",
        "\n",
        "plt.figure()\n",
        "\n",
        "plt.plot(epochs, loss, 'b', label='Training Loss')\n",
        "plt.title('Training loss')\n",
        "plt.legend()\n",
        "\n",
        "plt.show()\n",
        "  "
      ],
      "execution_count": 173,
      "outputs": [
        {
          "output_type": "display_data",
          "data": {
            "image/png": "[encoded data removed]",
            "text/plain": [
              "<Figure size 432x288 with 1 Axes>"
            ]
          },
          "metadata": {
            "tags": [],
            "needs_background": "light"
          }
        },
        {
          "output_type": "display_data",
          "data": {
            "image/png": "[encoded data removed]",
            "text/plain": [
              "<Figure size 432x288 with 1 Axes>"
            ]
          },
          "metadata": {
            "tags": [],
            "needs_background": "light"
          }
        }
      ]
    }
  ]
}